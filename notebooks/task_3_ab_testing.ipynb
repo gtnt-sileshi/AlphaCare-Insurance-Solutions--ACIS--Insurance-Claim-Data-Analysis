{
 "cells": [
  {
   "cell_type": "markdown",
   "metadata": {},
   "source": [
    "# AB Hyphothesis testing Notebook"
   ]
  },
  {
   "cell_type": "code",
   "execution_count": 1,
   "metadata": {},
   "outputs": [],
   "source": [
    "# Importing required libraries\n",
    "import sys\n",
    "import os\n",
    "import pandas as pd"
   ]
  },
  {
   "cell_type": "code",
   "execution_count": 2,
   "metadata": {},
   "outputs": [
    {
     "name": "stdout",
     "output_type": "stream",
     "text": [
      "c:\\Users\\HP\\Desktop\\KAIM-Cohort-3\\Week 3\\AlphaCare-Insurance-Solutions-(ACIS)-Insurance-Claim-Data Analysis\\notebooks\n",
      "c:\\Users\\HP\\Desktop\\KAIM-Cohort-3\\Week 3\\AlphaCare-Insurance-Solutions-(ACIS)-Insurance-Claim-Data Analysis\n"
     ]
    }
   ],
   "source": [
    "# Get the current working directory of the project\n",
    "current_dir = os.getcwd()\n",
    "print(current_dir)\n",
    "\n",
    "# Get the parent directory\n",
    "parent_dir = os.path.dirname(current_dir)\n",
    "print(parent_dir)\n",
    "\n",
    "# Insert the path to the parent directory\n",
    "sys.path.insert(0, parent_dir)\n",
    "\n",
    "# # Insert the path to the Scripts directory\n",
    "# sys.path.insert(0, os.path.join(parent_dir, 'Scripts'))\n",
    "\n",
    "# print(sys.path)"
   ]
  },
  {
   "cell_type": "code",
   "execution_count": 3,
   "metadata": {},
   "outputs": [],
   "source": [
    "\n",
    "from scripts.data_prep import load_data, preprocess_data\n",
    "from scripts.ab_testing import perform_t_test, perform_chi_squared_test"
   ]
  },
  {
   "cell_type": "code",
   "execution_count": 4,
   "metadata": {},
   "outputs": [
    {
     "name": "stderr",
     "output_type": "stream",
     "text": [
      "C:\\Users\\HP\\AppData\\Local\\Temp\\ipykernel_6388\\1473165552.py:4: DtypeWarning: Columns (32,37) have mixed types. Specify dtype option on import or set low_memory=False.\n",
      "  data = pd.read_csv(file_path, delimiter=\"|\")\n"
     ]
    },
    {
     "name": "stdout",
     "output_type": "stream",
     "text": [
      "Data loaded successfully.\n"
     ]
    }
   ],
   "source": [
    "# Load the data\n",
    "try:\n",
    "    file_path = \"../data/MachineLearningRating_v3.txt\"\n",
    "    data = pd.read_csv(file_path, delimiter=\"|\")\n",
    "    print(\"Data loaded successfully.\")\n",
    "except Exception as e:\n",
    "    print(f\"Error loading data: {e}\")"
   ]
  },
  {
   "cell_type": "code",
   "execution_count": 5,
   "metadata": {},
   "outputs": [
    {
     "name": "stdout",
     "output_type": "stream",
     "text": [
      "Index(['UnderwrittenCoverID', 'PolicyID', 'IsVATRegistered', 'PostalCode',\n",
      "       'mmcode', 'RegistrationYear', 'Cylinders', 'cubiccapacity', 'kilowatts',\n",
      "       'NumberOfDoors', 'CustomValueEstimate', 'NumberOfVehiclesInFleet',\n",
      "       'SumInsured', 'CalculatedPremiumPerTerm', 'TotalPremium',\n",
      "       'TotalClaims'],\n",
      "      dtype='object')\n",
      "Data preprocessed successfully.\n"
     ]
    }
   ],
   "source": [
    "# Preprocess the data\n",
    "try:\n",
    "    data = preprocess_data(data)\n",
    "    print(data.columns)\n",
    "    print(\"Data preprocessed successfully.\")\n",
    "except Exception as e:\n",
    "    print(f\"Error preprocessing data: {e}\")"
   ]
  },
  {
   "cell_type": "code",
   "execution_count": 6,
   "metadata": {},
   "outputs": [
    {
     "name": "stdout",
     "output_type": "stream",
     "text": [
      "RegistrationYear             int64\n",
      "NumberOfVehiclesInFleet    float64\n",
      "dtype: object\n"
     ]
    }
   ],
   "source": [
    "print(data[['RegistrationYear', 'NumberOfVehiclesInFleet']].dtypes)"
   ]
  },
  {
   "cell_type": "code",
   "execution_count": 7,
   "metadata": {},
   "outputs": [],
   "source": [
    "data['NumberOfVehiclesInFleet'] = data['NumberOfVehiclesInFleet'].round(0).astype('int').astype('category')"
   ]
  },
  {
   "cell_type": "code",
   "execution_count": 8,
   "metadata": {},
   "outputs": [],
   "source": [
    "data['RegistrationYear'] = data['RegistrationYear'].astype('category')"
   ]
  },
  {
   "cell_type": "code",
   "execution_count": 9,
   "metadata": {},
   "outputs": [],
   "source": [
    "bins = [0, 1, 3, 5, 10, float('inf')]\n",
    "labels = ['1', '2-3', '4-5', '6-10', '10+']\n",
    "data['NumberOfVehiclesInFleet'] = pd.cut(data['NumberOfVehiclesInFleet'], bins=bins, labels=labels)"
   ]
  },
  {
   "cell_type": "code",
   "execution_count": 10,
   "metadata": {},
   "outputs": [
    {
     "name": "stdout",
     "output_type": "stream",
     "text": [
      "Unique RegistrationYear values: [], Categories (0, int64): []\n",
      "Unique NumberOfVehiclesInFleet values: [], Categories (5, object): ['1' < '2-3' < '4-5' < '6-10' < '10+']\n",
      "Contingency Table:\n",
      "Empty DataFrame\n",
      "Columns: []\n",
      "Index: []\n",
      "ValueError: Contingency table is empty. Cannot perform Chi-squared test.\n"
     ]
    }
   ],
   "source": [
    "# Chi-squared test\n",
    "try:\n",
    "    # Ensure no missing values in relevant columns\n",
    "    if data[['RegistrationYear', 'NumberOfVehiclesInFleet']].isnull().any().any():\n",
    "        raise ValueError(\"Missing values detected in 'RegistrationYear' or 'NumberOfVehiclesInFleet'.\")\n",
    "\n",
    "    # Convert 'RegistrationYear' to categorical\n",
    "    data['RegistrationYear'] = data['RegistrationYear'].astype('category')\n",
    "\n",
    "    # Bin 'NumberOfVehiclesInFleet' into categories\n",
    "    bins = [0, 1, 3, 5, 10, float('inf')]\n",
    "    labels = ['1', '2-3', '4-5', '6-10', '10+']\n",
    "    data['NumberOfVehiclesInFleet'] = pd.cut(data['NumberOfVehiclesInFleet'], bins=bins, labels=labels)\n",
    "\n",
    "    # Check unique values\n",
    "    print(\"Unique RegistrationYear values:\", data['RegistrationYear'].unique())\n",
    "    print(\"Unique NumberOfVehiclesInFleet values:\", data['NumberOfVehiclesInFleet'].unique())\n",
    "\n",
    "    # Create contingency table\n",
    "    contingency_table = pd.crosstab(data['RegistrationYear'], data['NumberOfVehiclesInFleet'])\n",
    "    print(\"Contingency Table:\")\n",
    "    print(contingency_table)\n",
    "\n",
    "    # Ensure the table is non-empty\n",
    "    if contingency_table.empty:\n",
    "        raise ValueError(\"Contingency table is empty. Cannot perform Chi-squared test.\")\n",
    "\n",
    "    # Perform Chi-squared test\n",
    "    chi2, p_value, dof = perform_chi_squared_test(contingency_table)\n",
    "    print(f\"Chi-squared test completed. P-value: {p_value}\")\n",
    "except KeyError as e:\n",
    "    print(f\"KeyError: {e}\")\n",
    "except ValueError as e:\n",
    "    print(f\"ValueError: {e}\")\n",
    "except Exception as e:\n",
    "    print(f\"Error in Chi-squared test: {e}\")\n"
   ]
  }
 ],
 "metadata": {
  "kernelspec": {
   "display_name": ".venv",
   "language": "python",
   "name": "python3"
  },
  "language_info": {
   "codemirror_mode": {
    "name": "ipython",
    "version": 3
   },
   "file_extension": ".py",
   "mimetype": "text/x-python",
   "name": "python",
   "nbconvert_exporter": "python",
   "pygments_lexer": "ipython3",
   "version": "3.12.8"
  }
 },
 "nbformat": 4,
 "nbformat_minor": 2
}
