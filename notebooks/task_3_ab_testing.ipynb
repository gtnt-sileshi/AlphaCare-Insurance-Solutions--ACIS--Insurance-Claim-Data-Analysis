{
 "cells": [
  {
   "cell_type": "code",
   "execution_count": null,
   "metadata": {},
   "outputs": [],
   "source": [
    "# Importing required libraries\n",
    "import pandas as pd\n",
    "from scripts.data_prep import load_data, preprocess_data\n",
    "from scripts.ab_testing import perform_t_test, perform_chi_squared_test"
   ]
  },
  {
   "cell_type": "code",
   "execution_count": null,
   "metadata": {},
   "outputs": [],
   "source": [
    "# Load the data\n",
    "try:\n",
    "    data = load_data('data/insurance_data.csv')\n",
    "    print(\"Data loaded successfully.\")\n",
    "except Exception as e:\n",
    "    print(f\"Error loading data: {e}\")"
   ]
  },
  {
   "cell_type": "code",
   "execution_count": null,
   "metadata": {},
   "outputs": [],
   "source": [
    "# Preprocess the data\n",
    "try:\n",
    "    data = preprocess_data(data)\n",
    "    print(\"Data preprocessed successfully.\")\n",
    "except Exception as e:\n",
    "    print(f\"Error preprocessing data: {e}\")"
   ]
  },
  {
   "cell_type": "code",
   "execution_count": null,
   "metadata": {},
   "outputs": [],
   "source": [
    "# Chi-squared test\n",
    "try:\n",
    "    contingency_table = pd.crosstab(data['Gender'], data['RiskCategory'])\n",
    "    chi2, p_value, dof = perform_chi_squared_test(contingency_table)\n",
    "    print(f\"Chi-squared test completed. P-value: {p_value}\")\n",
    "except Exception as e:\n",
    "    print(f\"Error in Chi-squared test: {e}\")"
   ]
  }
 ],
 "metadata": {
  "language_info": {
   "name": "python"
  }
 },
 "nbformat": 4,
 "nbformat_minor": 2
}
