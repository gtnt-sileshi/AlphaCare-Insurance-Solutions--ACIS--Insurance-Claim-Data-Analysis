{
 "cells": [
  {
   "cell_type": "code",
   "execution_count": null,
   "metadata": {},
   "outputs": [],
   "source": [
    "# Import necessary modules\n",
    "import pandas as pd\n",
    "from scripts.data_prep import load_data, preprocess_data, split_data\n",
    "from scripts.statistical_modeling import train_linear_regression, train_random_forest, train_xgboost, evaluate_model\n",
    "from scripts.utils import plot_feature_importance, shap_analysis"
   ]
  },
  {
   "cell_type": "code",
   "execution_count": null,
   "metadata": {},
   "outputs": [],
   "source": [
    "# Load and preprocess the data\n",
    "try:\n",
    "    data = load_data('data/insurance_data.csv')\n",
    "    data = preprocess_data(data)\n",
    "    print(\"Data loaded and preprocessed successfully.\")\n",
    "except Exception as e:\n",
    "    print(f\"Error loading or preprocessing data: {e}\")"
   ]
  },
  {
   "cell_type": "code",
   "execution_count": null,
   "metadata": {},
   "outputs": [],
   "source": [
    "# Split data into train and test sets\n",
    "try:\n",
    "    X_train, X_test, y_train, y_test = split_data(data, target_column='TotalClaims')\n",
    "    print(\"Data split successfully.\")\n",
    "except Exception as e:\n",
    "    print(f\"Error splitting data: {e}\")"
   ]
  },
  {
   "cell_type": "code",
   "execution_count": null,
   "metadata": {},
   "outputs": [],
   "source": [
    "# Train and evaluate models\n",
    "try:\n",
    "    # Linear Regression\n",
    "    lin_reg = train_linear_regression(X_train, y_train)\n",
    "    lin_rmse, lin_r2 = evaluate_model(lin_reg, X_test, y_test)\n",
    "    print(f\"Linear Regression -> RMSE: {lin_rmse}, R²: {lin_r2}\")\n",
    "\n",
    "    # Random Forest\n",
    "    rf_model = train_random_forest(X_train, y_train)\n",
    "    rf_rmse, rf_r2 = evaluate_model(rf_model, X_test, y_test)\n",
    "    print(f\"Random Forest -> RMSE: {rf_rmse}, R²: {rf_r2}\")\n",
    "\n",
    "    # XGBoost\n",
    "    xgb_model = train_xgboost(X_train, y_train)\n",
    "    xgb_rmse, xgb_r2 = evaluate_model(xgb_model, X_test, y_test)\n",
    "    print(f\"XGBoost -> RMSE: {xgb_rmse}, R²: {xgb_r2}\")\n",
    "except Exception as e:\n",
    "    print(f\"Error training or evaluating models: {e}\")"
   ]
  },
  {
   "cell_type": "code",
   "execution_count": null,
   "metadata": {},
   "outputs": [],
   "source": [
    "# Feature importance and SHAP analysis for tree-based models\n",
    "try:\n",
    "    print(\"Performing feature importance and SHAP analysis for Random Forest...\")\n",
    "    plot_feature_importance(rf_model.feature_importances_, X_train.columns, title=\"Random Forest Feature Importance\")\n",
    "    shap_analysis(rf_model, X_test)\n",
    "except Exception as e:\n",
    "    print(f\"Error analyzing feature importance or SHAP: {e}\")"
   ]
  }
 ],
 "metadata": {
  "language_info": {
   "name": "python"
  }
 },
 "nbformat": 4,
 "nbformat_minor": 2
}
